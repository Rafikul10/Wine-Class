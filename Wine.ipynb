{
 "cells": [
  {
   "cell_type": "markdown",
   "id": "629fc3f4",
   "metadata": {},
   "source": [
    "# Wine\n",
    "These data are the results of a chemical analysis of wines grown in the same region in Italy but derived from three different cultivars. The analysis determined the quantities of 13 constituents found in each of the three types of wines.\n",
    "\n",
    "Number of Instances: 178\n",
    "Number of Attributes: 13\n",
    "Associated Tasks: Classification"
   ]
  },
  {
   "cell_type": "code",
   "execution_count": 1,
   "id": "105572de",
   "metadata": {},
   "outputs": [],
   "source": [
    "#import essential libaries\n",
    "import numpy as np\n",
    "import pandas as pd\n",
    "import seaborn as sns\n",
    "import matplotlib.pyplot as plt\n",
    "%matplotlib inline\n",
    "plt.style.use(\"dark_background\")\n",
    "\n",
    "import warnings\n",
    "warnings.filterwarnings(\"ignore\")"
   ]
  },
  {
   "cell_type": "code",
   "execution_count": 2,
   "id": "983887af",
   "metadata": {},
   "outputs": [
    {
     "data": {
      "text/html": [
       "<div>\n",
       "<style scoped>\n",
       "    .dataframe tbody tr th:only-of-type {\n",
       "        vertical-align: middle;\n",
       "    }\n",
       "\n",
       "    .dataframe tbody tr th {\n",
       "        vertical-align: top;\n",
       "    }\n",
       "\n",
       "    .dataframe thead th {\n",
       "        text-align: right;\n",
       "    }\n",
       "</style>\n",
       "<table border=\"1\" class=\"dataframe\">\n",
       "  <thead>\n",
       "    <tr style=\"text-align: right;\">\n",
       "      <th></th>\n",
       "      <th>Alcohol</th>\n",
       "      <th>Malic acid</th>\n",
       "      <th>Ash</th>\n",
       "      <th>Alcalinity of ash</th>\n",
       "      <th>Magnesium</th>\n",
       "      <th>Total phenols</th>\n",
       "      <th>Flavanoids</th>\n",
       "      <th>Nonflavanoid phenols</th>\n",
       "      <th>Proanthocyanins</th>\n",
       "      <th>Color intensity</th>\n",
       "      <th>Hue</th>\n",
       "      <th>OD280/OD315 of diluted wines</th>\n",
       "      <th>Proline</th>\n",
       "      <th>Class Label</th>\n",
       "    </tr>\n",
       "  </thead>\n",
       "  <tbody>\n",
       "    <tr>\n",
       "      <th>0</th>\n",
       "      <td>14.23</td>\n",
       "      <td>1.71</td>\n",
       "      <td>2.43</td>\n",
       "      <td>15.6</td>\n",
       "      <td>127</td>\n",
       "      <td>2.80</td>\n",
       "      <td>3.06</td>\n",
       "      <td>0.28</td>\n",
       "      <td>NaN</td>\n",
       "      <td>5.64</td>\n",
       "      <td>1.04</td>\n",
       "      <td>NaN</td>\n",
       "      <td>1065</td>\n",
       "      <td>0</td>\n",
       "    </tr>\n",
       "    <tr>\n",
       "      <th>1</th>\n",
       "      <td>13.20</td>\n",
       "      <td>1.78</td>\n",
       "      <td>2.14</td>\n",
       "      <td>11.2</td>\n",
       "      <td>100</td>\n",
       "      <td>2.65</td>\n",
       "      <td>2.76</td>\n",
       "      <td>0.26</td>\n",
       "      <td>1.28</td>\n",
       "      <td>4.38</td>\n",
       "      <td>1.05</td>\n",
       "      <td>3.40</td>\n",
       "      <td>1050</td>\n",
       "      <td>0</td>\n",
       "    </tr>\n",
       "    <tr>\n",
       "      <th>2</th>\n",
       "      <td>13.16</td>\n",
       "      <td>2.36</td>\n",
       "      <td>2.67</td>\n",
       "      <td>18.6</td>\n",
       "      <td>101</td>\n",
       "      <td>2.80</td>\n",
       "      <td>3.24</td>\n",
       "      <td>0.30</td>\n",
       "      <td>2.81</td>\n",
       "      <td>5.68</td>\n",
       "      <td>1.03</td>\n",
       "      <td>3.17</td>\n",
       "      <td>1185</td>\n",
       "      <td>0</td>\n",
       "    </tr>\n",
       "    <tr>\n",
       "      <th>3</th>\n",
       "      <td>14.37</td>\n",
       "      <td>1.95</td>\n",
       "      <td>2.50</td>\n",
       "      <td>16.8</td>\n",
       "      <td>113</td>\n",
       "      <td>3.85</td>\n",
       "      <td>3.49</td>\n",
       "      <td>0.24</td>\n",
       "      <td>2.18</td>\n",
       "      <td>7.80</td>\n",
       "      <td>0.86</td>\n",
       "      <td>3.45</td>\n",
       "      <td>1480</td>\n",
       "      <td>0</td>\n",
       "    </tr>\n",
       "    <tr>\n",
       "      <th>4</th>\n",
       "      <td>13.24</td>\n",
       "      <td>2.59</td>\n",
       "      <td>2.87</td>\n",
       "      <td>21.0</td>\n",
       "      <td>118</td>\n",
       "      <td>2.80</td>\n",
       "      <td>2.69</td>\n",
       "      <td>0.39</td>\n",
       "      <td>1.82</td>\n",
       "      <td>4.32</td>\n",
       "      <td>1.04</td>\n",
       "      <td>2.93</td>\n",
       "      <td>735</td>\n",
       "      <td>0</td>\n",
       "    </tr>\n",
       "  </tbody>\n",
       "</table>\n",
       "</div>"
      ],
      "text/plain": [
       "   Alcohol  Malic acid   Ash  Alcalinity of ash  Magnesium  Total phenols  \\\n",
       "0    14.23        1.71  2.43               15.6        127           2.80   \n",
       "1    13.20        1.78  2.14               11.2        100           2.65   \n",
       "2    13.16        2.36  2.67               18.6        101           2.80   \n",
       "3    14.37        1.95  2.50               16.8        113           3.85   \n",
       "4    13.24        2.59  2.87               21.0        118           2.80   \n",
       "\n",
       "   Flavanoids  Nonflavanoid phenols  Proanthocyanins  Color intensity   Hue  \\\n",
       "0        3.06                  0.28              NaN             5.64  1.04   \n",
       "1        2.76                  0.26             1.28             4.38  1.05   \n",
       "2        3.24                  0.30             2.81             5.68  1.03   \n",
       "3        3.49                  0.24             2.18             7.80  0.86   \n",
       "4        2.69                  0.39             1.82             4.32  1.04   \n",
       "\n",
       "   OD280/OD315 of diluted wines  Proline  Class Label  \n",
       "0                           NaN     1065            0  \n",
       "1                          3.40     1050            0  \n",
       "2                          3.17     1185            0  \n",
       "3                          3.45     1480            0  \n",
       "4                          2.93      735            0  "
      ]
     },
     "execution_count": 2,
     "metadata": {},
     "output_type": "execute_result"
    }
   ],
   "source": [
    "data=pd.read_csv(\"wine.csv\")      #Import dataset\n",
    "data.head()"
   ]
  },
  {
   "cell_type": "code",
   "execution_count": 3,
   "id": "48ac7f64",
   "metadata": {},
   "outputs": [
    {
     "name": "stdout",
     "output_type": "stream",
     "text": [
      "Dataset information-->\n",
      "<class 'pandas.core.frame.DataFrame'>\n",
      "RangeIndex: 178 entries, 0 to 177\n",
      "Data columns (total 14 columns):\n",
      " #   Column                        Non-Null Count  Dtype  \n",
      "---  ------                        --------------  -----  \n",
      " 0   Alcohol                       178 non-null    float64\n",
      " 1   Malic acid                    178 non-null    float64\n",
      " 2   Ash                           178 non-null    float64\n",
      " 3   Alcalinity of ash             178 non-null    float64\n",
      " 4   Magnesium                     178 non-null    int64  \n",
      " 5   Total phenols                 178 non-null    float64\n",
      " 6   Flavanoids                    178 non-null    float64\n",
      " 7   Nonflavanoid phenols          178 non-null    float64\n",
      " 8   Proanthocyanins               177 non-null    float64\n",
      " 9   Color intensity               178 non-null    float64\n",
      " 10  Hue                           178 non-null    float64\n",
      " 11  OD280/OD315 of diluted wines  177 non-null    float64\n",
      " 12  Proline                       178 non-null    int64  \n",
      " 13  Class Label                   178 non-null    int64  \n",
      "dtypes: float64(11), int64(3)\n",
      "memory usage: 19.6 KB\n",
      "None\n",
      "Dataset shape---->\n",
      "(178, 14)\n",
      "Dataset description----->\n",
      "          Alcohol  Malic acid         Ash  Alcalinity of ash   Magnesium  \\\n",
      "count  178.000000  178.000000  178.000000         178.000000  178.000000   \n",
      "mean    13.000618    2.336348    2.366517          19.494944   99.741573   \n",
      "std      0.811827    1.117146    0.274344           3.339564   14.282484   \n",
      "min     11.030000    0.740000    1.360000          10.600000   70.000000   \n",
      "25%     12.362500    1.602500    2.210000          17.200000   88.000000   \n",
      "50%     13.050000    1.865000    2.360000          19.500000   98.000000   \n",
      "75%     13.677500    3.082500    2.557500          21.500000  107.000000   \n",
      "max     14.830000    5.800000    3.230000          30.000000  162.000000   \n",
      "\n",
      "       Total phenols  Flavanoids  Nonflavanoid phenols  Proanthocyanins  \\\n",
      "count     178.000000  178.000000            178.000000       177.000000   \n",
      "mean        2.295112    2.029270              0.361854         1.586949   \n",
      "std         0.625851    0.998859              0.124453         0.571545   \n",
      "min         0.980000    0.340000              0.130000         0.410000   \n",
      "25%         1.742500    1.205000              0.270000         1.250000   \n",
      "50%         2.355000    2.135000              0.340000         1.550000   \n",
      "75%         2.800000    2.875000              0.437500         1.950000   \n",
      "max         3.880000    5.080000              0.660000         3.580000   \n",
      "\n",
      "       Color intensity         Hue  OD280/OD315 of diluted wines      Proline  \\\n",
      "count       178.000000  178.000000                    177.000000   178.000000   \n",
      "mean          5.058090    0.957472                      2.604294   746.893258   \n",
      "std           2.318286    0.228567                      0.705103   314.907474   \n",
      "min           1.280000    0.480000                      1.270000   278.000000   \n",
      "25%           3.220000    0.782500                      1.930000   500.500000   \n",
      "50%           4.690000    0.965000                      2.780000   673.500000   \n",
      "75%           6.200000    1.120000                      3.170000   985.000000   \n",
      "max          13.000000    1.710000                      4.000000  1680.000000   \n",
      "\n",
      "       Class Label  \n",
      "count   178.000000  \n",
      "mean      0.938202  \n",
      "std       0.775035  \n",
      "min       0.000000  \n",
      "25%       0.000000  \n",
      "50%       1.000000  \n",
      "75%       2.000000  \n",
      "max       2.000000  \n",
      "Summatio of missing value---->\n",
      "Alcohol                         0\n",
      "Malic acid                      0\n",
      "Ash                             0\n",
      "Alcalinity of ash               0\n",
      "Magnesium                       0\n",
      "Total phenols                   0\n",
      "Flavanoids                      0\n",
      "Nonflavanoid phenols            0\n",
      "Proanthocyanins                 1\n",
      "Color intensity                 0\n",
      "Hue                             0\n",
      "OD280/OD315 of diluted wines    1\n",
      "Proline                         0\n",
      "Class Label                     0\n",
      "dtype: int64\n"
     ]
    }
   ],
   "source": [
    "print(\"Dataset information-->\")                  \n",
    "print(data.info())                              #Dataset info \n",
    "print(\"Dataset shape---->\")\n",
    "print(data.shape)                               #shape of dataset\n",
    "print(\"Dataset description----->\")\n",
    "print(data.describe())                          #statistics of datsset\n",
    "print(\"Summatio of missing value---->\")\n",
    "print(data.isnull().sum())                      #missing value "
   ]
  },
  {
   "cell_type": "markdown",
   "id": "51b17fb3",
   "metadata": {},
   "source": [
    "-All variables are int and only numerical value is there no cateforical value present in dataset         \n",
    "-In two columns(Proanthocyanins & OD280/OD315 of diluted wines) have one one missing value"
   ]
  },
  {
   "cell_type": "code",
   "execution_count": 4,
   "id": "6273e8a2",
   "metadata": {},
   "outputs": [
    {
     "data": {
      "text/plain": [
       "<AxesSubplot:xlabel='Proanthocyanins', ylabel='OD280/OD315 of diluted wines'>"
      ]
     },
     "execution_count": 4,
     "metadata": {},
     "output_type": "execute_result"
    },
    {
     "data": {
      "image/png": "[encoded data removed]",
      "text/plain": [
       "<Figure size 1600x1400 with 1 Axes>"
      ]
     },
     "metadata": {},
     "output_type": "display_data"
    }
   ],
   "source": [
    "plt.figure(figsize=(16,14))\n",
    "sns.barplot(x=\"Proanthocyanins\",y=\"OD280/OD315 of diluted wines\",data=data)"
   ]
  },
  {
   "cell_type": "code",
   "execution_count": 5,
   "id": "7c426d5b",
   "metadata": {},
   "outputs": [
    {
     "name": "stdout",
     "output_type": "stream",
     "text": [
      "Mean of OD280/OD315 of diluted wines variables:  2.604293785310733\n",
      "Median of OD280/OD315 of diluted wines variables:  2.78\n",
      "Mode of OD280/OD315 of diluted wines variables:  0    2.87\n",
      "dtype: float64\n",
      "OD280/OD315 of diluted wines variables filled with:  2.78\n"
     ]
    }
   ],
   "source": [
    "a = data[\"OD280/OD315 of diluted wines\"].mean()                      #Mean calculae\n",
    "print(\"Mean of OD280/OD315 of diluted wines variables: \",a)\n",
    "\n",
    "b = data[\"OD280/OD315 of diluted wines\"].median()                    #Median calculate          \n",
    "print(\"Median of OD280/OD315 of diluted wines variables: \",b)\n",
    "\n",
    "c = data[\"OD280/OD315 of diluted wines\"].mode()                      #Model calculate\n",
    "print(\"Mode of OD280/OD315 of diluted wines variables: \",c)\n",
    "\n",
    "#Filling the missing value with edian\n",
    "data[\"OD280/OD315 of diluted wines\"].fillna(b,inplace=True)\n",
    "print(\"OD280/OD315 of diluted wines variables filled with: \",b)"
   ]
  },
  {
   "cell_type": "code",
   "execution_count": 6,
   "id": "ee8b9748",
   "metadata": {},
   "outputs": [
    {
     "name": "stdout",
     "output_type": "stream",
     "text": [
      "Mean of Proanthocyanins variables:  1.586949152542374\n",
      "Median of Proanthocyanins variables:  1.55\n",
      "Mode of Proanthocyanins variables:  0    1.35\n",
      "dtype: float64\n",
      "Proanthocyanins variables filled with:  1.55\n"
     ]
    }
   ],
   "source": [
    "a = data[\"Proanthocyanins\"].mean()                      #Mean calculae\n",
    "print(\"Mean of Proanthocyanins variables: \",a)\n",
    "\n",
    "b = data[\"Proanthocyanins\"].median()                    #Median calculate          \n",
    "print(\"Median of Proanthocyanins variables: \",b)\n",
    "\n",
    "c = data[\"Proanthocyanins\"].mode()                      #Model calculate\n",
    "print(\"Mode of Proanthocyanins variables: \",c)\n",
    "\n",
    "#Filling the missing value with edian\n",
    "data[\"Proanthocyanins\"].fillna(b,inplace=True)\n",
    "print(\"Proanthocyanins variables filled with: \",b)"
   ]
  },
  {
   "cell_type": "code",
   "execution_count": 8,
   "id": "d38b41ae",
   "metadata": {},
   "outputs": [
    {
     "name": "stdout",
     "output_type": "stream",
     "text": [
      "Features and labels seperation done!\n",
      "Train test split done!\n",
      "Shape of x_train is:  (142, 13)\n",
      "Shape of x_test is:  (36, 13)\n",
      "Shape of y_train is:  (142,)\n",
      "Shape of y_test is:  (36,)\n",
      "All train test split done perfectly!\n"
     ]
    }
   ],
   "source": [
    "#Split the data into features and labels\n",
    "x=data.drop(\"Class Label\",axis=1)            #Features\n",
    "y=data[\"Class Label\"]                        #labels\n",
    "print(\"Features and labels seperation done!\")\n",
    "\n",
    "\n",
    "#Split data into train test-->\n",
    "from sklearn.model_selection import train_test_split              #train test split \n",
    "x_train,x_test,y_train,y_test=train_test_split(x,y,                                 \n",
    "                                               test_size=0.2,\n",
    "                                               random_state=42\n",
    "                                              )                     \n",
    "print(\"Train test split done!\")\n",
    "\n",
    "print(\"Shape of x_train is: \",x_train.shape)                  #x_train shape print\n",
    "print(\"Shape of x_test is: \",x_test.shape)                    #x_test shape print\n",
    "print(\"Shape of y_train is: \",y_train.shape)                  #y_train shape print\n",
    "print(\"Shape of y_test is: \",y_test.shape)                    #y_test shape print\n",
    "\n",
    "print(\"All train test split done perfectly!\")"
   ]
  },
  {
   "cell_type": "markdown",
   "id": "8a000547",
   "metadata": {},
   "source": [
    "# Model Build"
   ]
  },
  {
   "cell_type": "code",
   "execution_count": 9,
   "id": "04abb904",
   "metadata": {},
   "outputs": [],
   "source": [
    "#scaling all variables by StandardScaler-->\n",
    "from sklearn.preprocessing import StandardScaler           #import StandardScaler\n",
    "from sklearn.ensemble import RandomForestClassifier        #Import randomclassifier algorithm\n",
    "from sklearn import pipeline                               #Import pipeline"
   ]
  },
  {
   "cell_type": "code",
   "execution_count": 31,
   "id": "475ffa38",
   "metadata": {},
   "outputs": [],
   "source": [
    "#create pipeline\n",
    "my_pipeline=Pipeline(\n",
    "    steps=[(\"scaler\",StandardScaler())                    #Standard scaling pipeline\n",
    "          ])"
   ]
  },
  {
   "cell_type": "code",
   "execution_count": 32,
   "id": "5b054031",
   "metadata": {},
   "outputs": [
    {
     "data": {
      "text/html": [
       "<style>#sk-769abe95-3e43-444d-8b1c-15421005e104 {color: black;background-color: white;}#sk-769abe95-3e43-444d-8b1c-15421005e104 pre{padding: 0;}#sk-769abe95-3e43-444d-8b1c-15421005e104 div.sk-toggleable {background-color: white;}#sk-769abe95-3e43-444d-8b1c-15421005e104 label.sk-toggleable__label {cursor: pointer;display: block;width: 100%;margin-bottom: 0;padding: 0.3em;box-sizing: border-box;text-align: center;}#sk-769abe95-3e43-444d-8b1c-15421005e104 label.sk-toggleable__label-arrow:before {content: \"▸\";float: left;margin-right: 0.25em;color: #696969;}#sk-769abe95-3e43-444d-8b1c-15421005e104 label.sk-toggleable__label-arrow:hover:before {color: black;}#sk-769abe95-3e43-444d-8b1c-15421005e104 div.sk-estimator:hover label.sk-toggleable__label-arrow:before {color: black;}#sk-769abe95-3e43-444d-8b1c-15421005e104 div.sk-toggleable__content {max-height: 0;max-width: 0;overflow: hidden;text-align: left;background-color: #f0f8ff;}#sk-769abe95-3e43-444d-8b1c-15421005e104 div.sk-toggleable__content pre {margin: 0.2em;color: black;border-radius: 0.25em;background-color: #f0f8ff;}#sk-769abe95-3e43-444d-8b1c-15421005e104 input.sk-toggleable__control:checked~div.sk-toggleable__content {max-height: 200px;max-width: 100%;overflow: auto;}#sk-769abe95-3e43-444d-8b1c-15421005e104 input.sk-toggleable__control:checked~label.sk-toggleable__label-arrow:before {content: \"▾\";}#sk-769abe95-3e43-444d-8b1c-15421005e104 div.sk-estimator input.sk-toggleable__control:checked~label.sk-toggleable__label {background-color: #d4ebff;}#sk-769abe95-3e43-444d-8b1c-15421005e104 div.sk-label input.sk-toggleable__control:checked~label.sk-toggleable__label {background-color: #d4ebff;}#sk-769abe95-3e43-444d-8b1c-15421005e104 input.sk-hidden--visually {border: 0;clip: rect(1px 1px 1px 1px);clip: rect(1px, 1px, 1px, 1px);height: 1px;margin: -1px;overflow: hidden;padding: 0;position: absolute;width: 1px;}#sk-769abe95-3e43-444d-8b1c-15421005e104 div.sk-estimator {font-family: monospace;background-color: #f0f8ff;border: 1px dotted black;border-radius: 0.25em;box-sizing: border-box;margin-bottom: 0.5em;}#sk-769abe95-3e43-444d-8b1c-15421005e104 div.sk-estimator:hover {background-color: #d4ebff;}#sk-769abe95-3e43-444d-8b1c-15421005e104 div.sk-parallel-item::after {content: \"\";width: 100%;border-bottom: 1px solid gray;flex-grow: 1;}#sk-769abe95-3e43-444d-8b1c-15421005e104 div.sk-label:hover label.sk-toggleable__label {background-color: #d4ebff;}#sk-769abe95-3e43-444d-8b1c-15421005e104 div.sk-serial::before {content: \"\";position: absolute;border-left: 1px solid gray;box-sizing: border-box;top: 2em;bottom: 0;left: 50%;}#sk-769abe95-3e43-444d-8b1c-15421005e104 div.sk-serial {display: flex;flex-direction: column;align-items: center;background-color: white;padding-right: 0.2em;padding-left: 0.2em;}#sk-769abe95-3e43-444d-8b1c-15421005e104 div.sk-item {z-index: 1;}#sk-769abe95-3e43-444d-8b1c-15421005e104 div.sk-parallel {display: flex;align-items: stretch;justify-content: center;background-color: white;}#sk-769abe95-3e43-444d-8b1c-15421005e104 div.sk-parallel::before {content: \"\";position: absolute;border-left: 1px solid gray;box-sizing: border-box;top: 2em;bottom: 0;left: 50%;}#sk-769abe95-3e43-444d-8b1c-15421005e104 div.sk-parallel-item {display: flex;flex-direction: column;position: relative;background-color: white;}#sk-769abe95-3e43-444d-8b1c-15421005e104 div.sk-parallel-item:first-child::after {align-self: flex-end;width: 50%;}#sk-769abe95-3e43-444d-8b1c-15421005e104 div.sk-parallel-item:last-child::after {align-self: flex-start;width: 50%;}#sk-769abe95-3e43-444d-8b1c-15421005e104 div.sk-parallel-item:only-child::after {width: 0;}#sk-769abe95-3e43-444d-8b1c-15421005e104 div.sk-dashed-wrapped {border: 1px dashed gray;margin: 0 0.4em 0.5em 0.4em;box-sizing: border-box;padding-bottom: 0.4em;background-color: white;position: relative;}#sk-769abe95-3e43-444d-8b1c-15421005e104 div.sk-label label {font-family: monospace;font-weight: bold;background-color: white;display: inline-block;line-height: 1.2em;}#sk-769abe95-3e43-444d-8b1c-15421005e104 div.sk-label-container {position: relative;z-index: 2;text-align: center;}#sk-769abe95-3e43-444d-8b1c-15421005e104 div.sk-container {/* jupyter's `normalize.less` sets `[hidden] { display: none; }` but bootstrap.min.css set `[hidden] { display: none !important; }` so we also need the `!important` here to be able to override the default hidden behavior on the sphinx rendered scikit-learn.org. See: https://github.com/scikit-learn/scikit-learn/issues/21755 */display: inline-block !important;position: relative;}#sk-769abe95-3e43-444d-8b1c-15421005e104 div.sk-text-repr-fallback {display: none;}</style><div id=\"sk-769abe95-3e43-444d-8b1c-15421005e104\" class=\"sk-top-container\"><div class=\"sk-text-repr-fallback\"><pre>Pipeline(steps=[(&#x27;scaler&#x27;, StandardScaler())])</pre><b>Please rerun this cell to show the HTML repr or trust the notebook.</b></div><div class=\"sk-container\" hidden><div class=\"sk-item sk-dashed-wrapped\"><div class=\"sk-label-container\"><div class=\"sk-label sk-toggleable\"><input class=\"sk-toggleable__control sk-hidden--visually\" id=\"d49fa027-1829-42e4-be45-a41700c71351\" type=\"checkbox\" ><label for=\"d49fa027-1829-42e4-be45-a41700c71351\" class=\"sk-toggleable__label sk-toggleable__label-arrow\">Pipeline</label><div class=\"sk-toggleable__content\"><pre>Pipeline(steps=[(&#x27;scaler&#x27;, StandardScaler())])</pre></div></div></div><div class=\"sk-serial\"><div class=\"sk-item\"><div class=\"sk-estimator sk-toggleable\"><input class=\"sk-toggleable__control sk-hidden--visually\" id=\"45274ca8-5f4c-46b9-b38e-eb68af11f9a0\" type=\"checkbox\" ><label for=\"45274ca8-5f4c-46b9-b38e-eb68af11f9a0\" class=\"sk-toggleable__label sk-toggleable__label-arrow\">StandardScaler</label><div class=\"sk-toggleable__content\"><pre>StandardScaler()</pre></div></div></div></div></div></div></div>"
      ],
      "text/plain": [
       "Pipeline(steps=[('scaler', StandardScaler())])"
      ]
     },
     "execution_count": 32,
     "metadata": {},
     "output_type": "execute_result"
    }
   ],
   "source": [
    "#fit train data in standard scaling pipeline\n",
    "my_pipeline.fit(x_train,y_train)"
   ]
  },
  {
   "cell_type": "code",
   "execution_count": 33,
   "id": "39a6b8d5",
   "metadata": {},
   "outputs": [],
   "source": [
    "#add algorithm to standard scaing pipeline\n",
    "pipe=Pipeline(\n",
    "    steps=[(\"preprocessor\",my_pipeline),\n",
    "          (\"RM\",RandomForestClassifier())                  #add randomforestclassifier algorithm\n",
    "          ])"
   ]
  },
  {
   "cell_type": "code",
   "execution_count": 34,
   "id": "9f3a1276",
   "metadata": {},
   "outputs": [
    {
     "data": {
      "text/html": [
       "<style>#sk-d783fb0b-dbdc-4687-ac22-d7309727311e {color: black;background-color: white;}#sk-d783fb0b-dbdc-4687-ac22-d7309727311e pre{padding: 0;}#sk-d783fb0b-dbdc-4687-ac22-d7309727311e div.sk-toggleable {background-color: white;}#sk-d783fb0b-dbdc-4687-ac22-d7309727311e label.sk-toggleable__label {cursor: pointer;display: block;width: 100%;margin-bottom: 0;padding: 0.3em;box-sizing: border-box;text-align: center;}#sk-d783fb0b-dbdc-4687-ac22-d7309727311e label.sk-toggleable__label-arrow:before {content: \"▸\";float: left;margin-right: 0.25em;color: #696969;}#sk-d783fb0b-dbdc-4687-ac22-d7309727311e label.sk-toggleable__label-arrow:hover:before {color: black;}#sk-d783fb0b-dbdc-4687-ac22-d7309727311e div.sk-estimator:hover label.sk-toggleable__label-arrow:before {color: black;}#sk-d783fb0b-dbdc-4687-ac22-d7309727311e div.sk-toggleable__content {max-height: 0;max-width: 0;overflow: hidden;text-align: left;background-color: #f0f8ff;}#sk-d783fb0b-dbdc-4687-ac22-d7309727311e div.sk-toggleable__content pre {margin: 0.2em;color: black;border-radius: 0.25em;background-color: #f0f8ff;}#sk-d783fb0b-dbdc-4687-ac22-d7309727311e input.sk-toggleable__control:checked~div.sk-toggleable__content {max-height: 200px;max-width: 100%;overflow: auto;}#sk-d783fb0b-dbdc-4687-ac22-d7309727311e input.sk-toggleable__control:checked~label.sk-toggleable__label-arrow:before {content: \"▾\";}#sk-d783fb0b-dbdc-4687-ac22-d7309727311e div.sk-estimator input.sk-toggleable__control:checked~label.sk-toggleable__label {background-color: #d4ebff;}#sk-d783fb0b-dbdc-4687-ac22-d7309727311e div.sk-label input.sk-toggleable__control:checked~label.sk-toggleable__label {background-color: #d4ebff;}#sk-d783fb0b-dbdc-4687-ac22-d7309727311e input.sk-hidden--visually {border: 0;clip: rect(1px 1px 1px 1px);clip: rect(1px, 1px, 1px, 1px);height: 1px;margin: -1px;overflow: hidden;padding: 0;position: absolute;width: 1px;}#sk-d783fb0b-dbdc-4687-ac22-d7309727311e div.sk-estimator {font-family: monospace;background-color: #f0f8ff;border: 1px dotted black;border-radius: 0.25em;box-sizing: border-box;margin-bottom: 0.5em;}#sk-d783fb0b-dbdc-4687-ac22-d7309727311e div.sk-estimator:hover {background-color: #d4ebff;}#sk-d783fb0b-dbdc-4687-ac22-d7309727311e div.sk-parallel-item::after {content: \"\";width: 100%;border-bottom: 1px solid gray;flex-grow: 1;}#sk-d783fb0b-dbdc-4687-ac22-d7309727311e div.sk-label:hover label.sk-toggleable__label {background-color: #d4ebff;}#sk-d783fb0b-dbdc-4687-ac22-d7309727311e div.sk-serial::before {content: \"\";position: absolute;border-left: 1px solid gray;box-sizing: border-box;top: 2em;bottom: 0;left: 50%;}#sk-d783fb0b-dbdc-4687-ac22-d7309727311e div.sk-serial {display: flex;flex-direction: column;align-items: center;background-color: white;padding-right: 0.2em;padding-left: 0.2em;}#sk-d783fb0b-dbdc-4687-ac22-d7309727311e div.sk-item {z-index: 1;}#sk-d783fb0b-dbdc-4687-ac22-d7309727311e div.sk-parallel {display: flex;align-items: stretch;justify-content: center;background-color: white;}#sk-d783fb0b-dbdc-4687-ac22-d7309727311e div.sk-parallel::before {content: \"\";position: absolute;border-left: 1px solid gray;box-sizing: border-box;top: 2em;bottom: 0;left: 50%;}#sk-d783fb0b-dbdc-4687-ac22-d7309727311e div.sk-parallel-item {display: flex;flex-direction: column;position: relative;background-color: white;}#sk-d783fb0b-dbdc-4687-ac22-d7309727311e div.sk-parallel-item:first-child::after {align-self: flex-end;width: 50%;}#sk-d783fb0b-dbdc-4687-ac22-d7309727311e div.sk-parallel-item:last-child::after {align-self: flex-start;width: 50%;}#sk-d783fb0b-dbdc-4687-ac22-d7309727311e div.sk-parallel-item:only-child::after {width: 0;}#sk-d783fb0b-dbdc-4687-ac22-d7309727311e div.sk-dashed-wrapped {border: 1px dashed gray;margin: 0 0.4em 0.5em 0.4em;box-sizing: border-box;padding-bottom: 0.4em;background-color: white;position: relative;}#sk-d783fb0b-dbdc-4687-ac22-d7309727311e div.sk-label label {font-family: monospace;font-weight: bold;background-color: white;display: inline-block;line-height: 1.2em;}#sk-d783fb0b-dbdc-4687-ac22-d7309727311e div.sk-label-container {position: relative;z-index: 2;text-align: center;}#sk-d783fb0b-dbdc-4687-ac22-d7309727311e div.sk-container {/* jupyter's `normalize.less` sets `[hidden] { display: none; }` but bootstrap.min.css set `[hidden] { display: none !important; }` so we also need the `!important` here to be able to override the default hidden behavior on the sphinx rendered scikit-learn.org. See: https://github.com/scikit-learn/scikit-learn/issues/21755 */display: inline-block !important;position: relative;}#sk-d783fb0b-dbdc-4687-ac22-d7309727311e div.sk-text-repr-fallback {display: none;}</style><div id=\"sk-d783fb0b-dbdc-4687-ac22-d7309727311e\" class=\"sk-top-container\"><div class=\"sk-text-repr-fallback\"><pre>Pipeline(steps=[(&#x27;preprocessor&#x27;,\n",
       "                 Pipeline(steps=[(&#x27;scaler&#x27;, StandardScaler())])),\n",
       "                (&#x27;RM&#x27;, RandomForestClassifier())])</pre><b>Please rerun this cell to show the HTML repr or trust the notebook.</b></div><div class=\"sk-container\" hidden><div class=\"sk-item sk-dashed-wrapped\"><div class=\"sk-label-container\"><div class=\"sk-label sk-toggleable\"><input class=\"sk-toggleable__control sk-hidden--visually\" id=\"ccea27cc-c49d-43db-b0e8-2ad6fbd5d082\" type=\"checkbox\" ><label for=\"ccea27cc-c49d-43db-b0e8-2ad6fbd5d082\" class=\"sk-toggleable__label sk-toggleable__label-arrow\">Pipeline</label><div class=\"sk-toggleable__content\"><pre>Pipeline(steps=[(&#x27;preprocessor&#x27;,\n",
       "                 Pipeline(steps=[(&#x27;scaler&#x27;, StandardScaler())])),\n",
       "                (&#x27;RM&#x27;, RandomForestClassifier())])</pre></div></div></div><div class=\"sk-serial\"><div class=\"sk-item\"><div class=\"sk-label-container\"><div class=\"sk-label sk-toggleable\"><input class=\"sk-toggleable__control sk-hidden--visually\" id=\"1317e3f7-cba1-4df6-ae46-5d1a83ebaacb\" type=\"checkbox\" ><label for=\"1317e3f7-cba1-4df6-ae46-5d1a83ebaacb\" class=\"sk-toggleable__label sk-toggleable__label-arrow\">preprocessor: Pipeline</label><div class=\"sk-toggleable__content\"><pre>Pipeline(steps=[(&#x27;scaler&#x27;, StandardScaler())])</pre></div></div></div><div class=\"sk-serial\"><div class=\"sk-item\"><div class=\"sk-estimator sk-toggleable\"><input class=\"sk-toggleable__control sk-hidden--visually\" id=\"9a7c8e6f-2d7d-4f0f-9a62-28d30a63c688\" type=\"checkbox\" ><label for=\"9a7c8e6f-2d7d-4f0f-9a62-28d30a63c688\" class=\"sk-toggleable__label sk-toggleable__label-arrow\">StandardScaler</label><div class=\"sk-toggleable__content\"><pre>StandardScaler()</pre></div></div></div></div></div><div class=\"sk-item\"><div class=\"sk-estimator sk-toggleable\"><input class=\"sk-toggleable__control sk-hidden--visually\" id=\"f84a7efd-7e0e-4a81-972d-3c6735992801\" type=\"checkbox\" ><label for=\"f84a7efd-7e0e-4a81-972d-3c6735992801\" class=\"sk-toggleable__label sk-toggleable__label-arrow\">RandomForestClassifier</label><div class=\"sk-toggleable__content\"><pre>RandomForestClassifier()</pre></div></div></div></div></div></div></div>"
      ],
      "text/plain": [
       "Pipeline(steps=[('preprocessor',\n",
       "                 Pipeline(steps=[('scaler', StandardScaler())])),\n",
       "                ('RM', RandomForestClassifier())])"
      ]
     },
     "execution_count": 34,
     "metadata": {},
     "output_type": "execute_result"
    }
   ],
   "source": [
    "from sklearn import set_config\n",
    "set_config(display=\"diagram\")\n",
    "pipe"
   ]
  },
  {
   "cell_type": "code",
   "execution_count": 65,
   "id": "f60477d1",
   "metadata": {},
   "outputs": [
    {
     "data": {
      "text/html": [
       "<style>#sk-d679a26a-b237-46d1-9e7e-be69d7bb0313 {color: black;background-color: white;}#sk-d679a26a-b237-46d1-9e7e-be69d7bb0313 pre{padding: 0;}#sk-d679a26a-b237-46d1-9e7e-be69d7bb0313 div.sk-toggleable {background-color: white;}#sk-d679a26a-b237-46d1-9e7e-be69d7bb0313 label.sk-toggleable__label {cursor: pointer;display: block;width: 100%;margin-bottom: 0;padding: 0.3em;box-sizing: border-box;text-align: center;}#sk-d679a26a-b237-46d1-9e7e-be69d7bb0313 label.sk-toggleable__label-arrow:before {content: \"▸\";float: left;margin-right: 0.25em;color: #696969;}#sk-d679a26a-b237-46d1-9e7e-be69d7bb0313 label.sk-toggleable__label-arrow:hover:before {color: black;}#sk-d679a26a-b237-46d1-9e7e-be69d7bb0313 div.sk-estimator:hover label.sk-toggleable__label-arrow:before {color: black;}#sk-d679a26a-b237-46d1-9e7e-be69d7bb0313 div.sk-toggleable__content {max-height: 0;max-width: 0;overflow: hidden;text-align: left;background-color: #f0f8ff;}#sk-d679a26a-b237-46d1-9e7e-be69d7bb0313 div.sk-toggleable__content pre {margin: 0.2em;color: black;border-radius: 0.25em;background-color: #f0f8ff;}#sk-d679a26a-b237-46d1-9e7e-be69d7bb0313 input.sk-toggleable__control:checked~div.sk-toggleable__content {max-height: 200px;max-width: 100%;overflow: auto;}#sk-d679a26a-b237-46d1-9e7e-be69d7bb0313 input.sk-toggleable__control:checked~label.sk-toggleable__label-arrow:before {content: \"▾\";}#sk-d679a26a-b237-46d1-9e7e-be69d7bb0313 div.sk-estimator input.sk-toggleable__control:checked~label.sk-toggleable__label {background-color: #d4ebff;}#sk-d679a26a-b237-46d1-9e7e-be69d7bb0313 div.sk-label input.sk-toggleable__control:checked~label.sk-toggleable__label {background-color: #d4ebff;}#sk-d679a26a-b237-46d1-9e7e-be69d7bb0313 input.sk-hidden--visually {border: 0;clip: rect(1px 1px 1px 1px);clip: rect(1px, 1px, 1px, 1px);height: 1px;margin: -1px;overflow: hidden;padding: 0;position: absolute;width: 1px;}#sk-d679a26a-b237-46d1-9e7e-be69d7bb0313 div.sk-estimator {font-family: monospace;background-color: #f0f8ff;border: 1px dotted black;border-radius: 0.25em;box-sizing: border-box;margin-bottom: 0.5em;}#sk-d679a26a-b237-46d1-9e7e-be69d7bb0313 div.sk-estimator:hover {background-color: #d4ebff;}#sk-d679a26a-b237-46d1-9e7e-be69d7bb0313 div.sk-parallel-item::after {content: \"\";width: 100%;border-bottom: 1px solid gray;flex-grow: 1;}#sk-d679a26a-b237-46d1-9e7e-be69d7bb0313 div.sk-label:hover label.sk-toggleable__label {background-color: #d4ebff;}#sk-d679a26a-b237-46d1-9e7e-be69d7bb0313 div.sk-serial::before {content: \"\";position: absolute;border-left: 1px solid gray;box-sizing: border-box;top: 2em;bottom: 0;left: 50%;}#sk-d679a26a-b237-46d1-9e7e-be69d7bb0313 div.sk-serial {display: flex;flex-direction: column;align-items: center;background-color: white;padding-right: 0.2em;padding-left: 0.2em;}#sk-d679a26a-b237-46d1-9e7e-be69d7bb0313 div.sk-item {z-index: 1;}#sk-d679a26a-b237-46d1-9e7e-be69d7bb0313 div.sk-parallel {display: flex;align-items: stretch;justify-content: center;background-color: white;}#sk-d679a26a-b237-46d1-9e7e-be69d7bb0313 div.sk-parallel::before {content: \"\";position: absolute;border-left: 1px solid gray;box-sizing: border-box;top: 2em;bottom: 0;left: 50%;}#sk-d679a26a-b237-46d1-9e7e-be69d7bb0313 div.sk-parallel-item {display: flex;flex-direction: column;position: relative;background-color: white;}#sk-d679a26a-b237-46d1-9e7e-be69d7bb0313 div.sk-parallel-item:first-child::after {align-self: flex-end;width: 50%;}#sk-d679a26a-b237-46d1-9e7e-be69d7bb0313 div.sk-parallel-item:last-child::after {align-self: flex-start;width: 50%;}#sk-d679a26a-b237-46d1-9e7e-be69d7bb0313 div.sk-parallel-item:only-child::after {width: 0;}#sk-d679a26a-b237-46d1-9e7e-be69d7bb0313 div.sk-dashed-wrapped {border: 1px dashed gray;margin: 0 0.4em 0.5em 0.4em;box-sizing: border-box;padding-bottom: 0.4em;background-color: white;position: relative;}#sk-d679a26a-b237-46d1-9e7e-be69d7bb0313 div.sk-label label {font-family: monospace;font-weight: bold;background-color: white;display: inline-block;line-height: 1.2em;}#sk-d679a26a-b237-46d1-9e7e-be69d7bb0313 div.sk-label-container {position: relative;z-index: 2;text-align: center;}#sk-d679a26a-b237-46d1-9e7e-be69d7bb0313 div.sk-container {/* jupyter's `normalize.less` sets `[hidden] { display: none; }` but bootstrap.min.css set `[hidden] { display: none !important; }` so we also need the `!important` here to be able to override the default hidden behavior on the sphinx rendered scikit-learn.org. See: https://github.com/scikit-learn/scikit-learn/issues/21755 */display: inline-block !important;position: relative;}#sk-d679a26a-b237-46d1-9e7e-be69d7bb0313 div.sk-text-repr-fallback {display: none;}</style><div id=\"sk-d679a26a-b237-46d1-9e7e-be69d7bb0313\" class=\"sk-top-container\"><div class=\"sk-text-repr-fallback\"><pre>GridSearchCV(estimator=Pipeline(steps=[(&#x27;preprocessor&#x27;,\n",
       "                                        Pipeline(steps=[(&#x27;scaler&#x27;,\n",
       "                                                         StandardScaler())])),\n",
       "                                       (&#x27;RM&#x27;,\n",
       "                                        RandomForestClassifier(n_estimators=200))]),\n",
       "             n_jobs=1, param_grid={&#x27;RM__n_estimators&#x27;: [200, 300]})</pre><b>Please rerun this cell to show the HTML repr or trust the notebook.</b></div><div class=\"sk-container\" hidden><div class=\"sk-item sk-dashed-wrapped\"><div class=\"sk-label-container\"><div class=\"sk-label sk-toggleable\"><input class=\"sk-toggleable__control sk-hidden--visually\" id=\"3778f5ba-5eed-4d06-be07-dda415c508dc\" type=\"checkbox\" ><label for=\"3778f5ba-5eed-4d06-be07-dda415c508dc\" class=\"sk-toggleable__label sk-toggleable__label-arrow\">GridSearchCV</label><div class=\"sk-toggleable__content\"><pre>GridSearchCV(estimator=Pipeline(steps=[(&#x27;preprocessor&#x27;,\n",
       "                                        Pipeline(steps=[(&#x27;scaler&#x27;,\n",
       "                                                         StandardScaler())])),\n",
       "                                       (&#x27;RM&#x27;,\n",
       "                                        RandomForestClassifier(n_estimators=200))]),\n",
       "             n_jobs=1, param_grid={&#x27;RM__n_estimators&#x27;: [200, 300]})</pre></div></div></div><div class=\"sk-parallel\"><div class=\"sk-parallel-item\"><div class=\"sk-item\"><div class=\"sk-serial\"><div class=\"sk-item\"><div class=\"sk-serial\"><div class=\"sk-item\"><div class=\"sk-label-container\"><div class=\"sk-label sk-toggleable\"><input class=\"sk-toggleable__control sk-hidden--visually\" id=\"9166f140-2e7f-4ecd-b29b-fef89f312eb5\" type=\"checkbox\" ><label for=\"9166f140-2e7f-4ecd-b29b-fef89f312eb5\" class=\"sk-toggleable__label sk-toggleable__label-arrow\">preprocessor: Pipeline</label><div class=\"sk-toggleable__content\"><pre>Pipeline(steps=[(&#x27;scaler&#x27;, StandardScaler())])</pre></div></div></div><div class=\"sk-serial\"><div class=\"sk-item\"><div class=\"sk-estimator sk-toggleable\"><input class=\"sk-toggleable__control sk-hidden--visually\" id=\"2f01a949-fbfa-4a88-957f-24121d92e3c6\" type=\"checkbox\" ><label for=\"2f01a949-fbfa-4a88-957f-24121d92e3c6\" class=\"sk-toggleable__label sk-toggleable__label-arrow\">StandardScaler</label><div class=\"sk-toggleable__content\"><pre>StandardScaler()</pre></div></div></div></div></div><div class=\"sk-item\"><div class=\"sk-estimator sk-toggleable\"><input class=\"sk-toggleable__control sk-hidden--visually\" id=\"77d4871b-182a-4ec8-9d70-3cacceb7ea17\" type=\"checkbox\" ><label for=\"77d4871b-182a-4ec8-9d70-3cacceb7ea17\" class=\"sk-toggleable__label sk-toggleable__label-arrow\">RandomForestClassifier</label><div class=\"sk-toggleable__content\"><pre>RandomForestClassifier(n_estimators=200)</pre></div></div></div></div></div></div></div></div></div></div></div></div>"
      ],
      "text/plain": [
       "GridSearchCV(estimator=Pipeline(steps=[('preprocessor',\n",
       "                                        Pipeline(steps=[('scaler',\n",
       "                                                         StandardScaler())])),\n",
       "                                       ('RM',\n",
       "                                        RandomForestClassifier(n_estimators=200))]),\n",
       "             n_jobs=1, param_grid={'RM__n_estimators': [200, 300]})"
      ]
     },
     "execution_count": 65,
     "metadata": {},
     "output_type": "execute_result"
    }
   ],
   "source": [
    "#Hypermeter tuning\n",
    "param_grid = {\n",
    "    \"RM__n_estimators\": [200,300]\n",
    "}\n",
    "\n",
    "grid_search = GridSearchCV(pipe, param_grid=param_grid, n_jobs=1)           #gridserach parameters\n",
    "\n",
    "#Set parameters to training data\n",
    "grid_search.fit(x_train,y_train)       "
   ]
  },
  {
   "cell_type": "code",
   "execution_count": 36,
   "id": "273f557b",
   "metadata": {},
   "outputs": [
    {
     "data": {
      "text/plain": [
       "{'RM__n_estimators': 300}"
      ]
     },
     "execution_count": 36,
     "metadata": {},
     "output_type": "execute_result"
    }
   ],
   "source": [
    "#finding best parameter for the model\n",
    "grid_search.best_params_ "
   ]
  },
  {
   "cell_type": "code",
   "execution_count": 37,
   "id": "7e9ced9c",
   "metadata": {},
   "outputs": [],
   "source": [
    "#Add best parameters to algorithm\n",
    "pipe=Pipeline(\n",
    "    steps=[(\"preprocessor\",my_pipeline),\n",
    "          (\"RM\",RandomForestClassifier(n_estimators=200))\n",
    "          ])"
   ]
  },
  {
   "cell_type": "code",
   "execution_count": 38,
   "id": "f3db707a",
   "metadata": {},
   "outputs": [
    {
     "data": {
      "text/html": [
       "<style>#sk-96a4cb60-57d7-4575-a800-083902cade2b {color: black;background-color: white;}#sk-96a4cb60-57d7-4575-a800-083902cade2b pre{padding: 0;}#sk-96a4cb60-57d7-4575-a800-083902cade2b div.sk-toggleable {background-color: white;}#sk-96a4cb60-57d7-4575-a800-083902cade2b label.sk-toggleable__label {cursor: pointer;display: block;width: 100%;margin-bottom: 0;padding: 0.3em;box-sizing: border-box;text-align: center;}#sk-96a4cb60-57d7-4575-a800-083902cade2b label.sk-toggleable__label-arrow:before {content: \"▸\";float: left;margin-right: 0.25em;color: #696969;}#sk-96a4cb60-57d7-4575-a800-083902cade2b label.sk-toggleable__label-arrow:hover:before {color: black;}#sk-96a4cb60-57d7-4575-a800-083902cade2b div.sk-estimator:hover label.sk-toggleable__label-arrow:before {color: black;}#sk-96a4cb60-57d7-4575-a800-083902cade2b div.sk-toggleable__content {max-height: 0;max-width: 0;overflow: hidden;text-align: left;background-color: #f0f8ff;}#sk-96a4cb60-57d7-4575-a800-083902cade2b div.sk-toggleable__content pre {margin: 0.2em;color: black;border-radius: 0.25em;background-color: #f0f8ff;}#sk-96a4cb60-57d7-4575-a800-083902cade2b input.sk-toggleable__control:checked~div.sk-toggleable__content {max-height: 200px;max-width: 100%;overflow: auto;}#sk-96a4cb60-57d7-4575-a800-083902cade2b input.sk-toggleable__control:checked~label.sk-toggleable__label-arrow:before {content: \"▾\";}#sk-96a4cb60-57d7-4575-a800-083902cade2b div.sk-estimator input.sk-toggleable__control:checked~label.sk-toggleable__label {background-color: #d4ebff;}#sk-96a4cb60-57d7-4575-a800-083902cade2b div.sk-label input.sk-toggleable__control:checked~label.sk-toggleable__label {background-color: #d4ebff;}#sk-96a4cb60-57d7-4575-a800-083902cade2b input.sk-hidden--visually {border: 0;clip: rect(1px 1px 1px 1px);clip: rect(1px, 1px, 1px, 1px);height: 1px;margin: -1px;overflow: hidden;padding: 0;position: absolute;width: 1px;}#sk-96a4cb60-57d7-4575-a800-083902cade2b div.sk-estimator {font-family: monospace;background-color: #f0f8ff;border: 1px dotted black;border-radius: 0.25em;box-sizing: border-box;margin-bottom: 0.5em;}#sk-96a4cb60-57d7-4575-a800-083902cade2b div.sk-estimator:hover {background-color: #d4ebff;}#sk-96a4cb60-57d7-4575-a800-083902cade2b div.sk-parallel-item::after {content: \"\";width: 100%;border-bottom: 1px solid gray;flex-grow: 1;}#sk-96a4cb60-57d7-4575-a800-083902cade2b div.sk-label:hover label.sk-toggleable__label {background-color: #d4ebff;}#sk-96a4cb60-57d7-4575-a800-083902cade2b div.sk-serial::before {content: \"\";position: absolute;border-left: 1px solid gray;box-sizing: border-box;top: 2em;bottom: 0;left: 50%;}#sk-96a4cb60-57d7-4575-a800-083902cade2b div.sk-serial {display: flex;flex-direction: column;align-items: center;background-color: white;padding-right: 0.2em;padding-left: 0.2em;}#sk-96a4cb60-57d7-4575-a800-083902cade2b div.sk-item {z-index: 1;}#sk-96a4cb60-57d7-4575-a800-083902cade2b div.sk-parallel {display: flex;align-items: stretch;justify-content: center;background-color: white;}#sk-96a4cb60-57d7-4575-a800-083902cade2b div.sk-parallel::before {content: \"\";position: absolute;border-left: 1px solid gray;box-sizing: border-box;top: 2em;bottom: 0;left: 50%;}#sk-96a4cb60-57d7-4575-a800-083902cade2b div.sk-parallel-item {display: flex;flex-direction: column;position: relative;background-color: white;}#sk-96a4cb60-57d7-4575-a800-083902cade2b div.sk-parallel-item:first-child::after {align-self: flex-end;width: 50%;}#sk-96a4cb60-57d7-4575-a800-083902cade2b div.sk-parallel-item:last-child::after {align-self: flex-start;width: 50%;}#sk-96a4cb60-57d7-4575-a800-083902cade2b div.sk-parallel-item:only-child::after {width: 0;}#sk-96a4cb60-57d7-4575-a800-083902cade2b div.sk-dashed-wrapped {border: 1px dashed gray;margin: 0 0.4em 0.5em 0.4em;box-sizing: border-box;padding-bottom: 0.4em;background-color: white;position: relative;}#sk-96a4cb60-57d7-4575-a800-083902cade2b div.sk-label label {font-family: monospace;font-weight: bold;background-color: white;display: inline-block;line-height: 1.2em;}#sk-96a4cb60-57d7-4575-a800-083902cade2b div.sk-label-container {position: relative;z-index: 2;text-align: center;}#sk-96a4cb60-57d7-4575-a800-083902cade2b div.sk-container {/* jupyter's `normalize.less` sets `[hidden] { display: none; }` but bootstrap.min.css set `[hidden] { display: none !important; }` so we also need the `!important` here to be able to override the default hidden behavior on the sphinx rendered scikit-learn.org. See: https://github.com/scikit-learn/scikit-learn/issues/21755 */display: inline-block !important;position: relative;}#sk-96a4cb60-57d7-4575-a800-083902cade2b div.sk-text-repr-fallback {display: none;}</style><div id=\"sk-96a4cb60-57d7-4575-a800-083902cade2b\" class=\"sk-top-container\"><div class=\"sk-text-repr-fallback\"><pre>Pipeline(steps=[(&#x27;preprocessor&#x27;,\n",
       "                 Pipeline(steps=[(&#x27;scaler&#x27;, StandardScaler())])),\n",
       "                (&#x27;RM&#x27;, RandomForestClassifier(n_estimators=200))])</pre><b>Please rerun this cell to show the HTML repr or trust the notebook.</b></div><div class=\"sk-container\" hidden><div class=\"sk-item sk-dashed-wrapped\"><div class=\"sk-label-container\"><div class=\"sk-label sk-toggleable\"><input class=\"sk-toggleable__control sk-hidden--visually\" id=\"6f24dd5d-b06d-4cfe-ab23-9229e2e185f5\" type=\"checkbox\" ><label for=\"6f24dd5d-b06d-4cfe-ab23-9229e2e185f5\" class=\"sk-toggleable__label sk-toggleable__label-arrow\">Pipeline</label><div class=\"sk-toggleable__content\"><pre>Pipeline(steps=[(&#x27;preprocessor&#x27;,\n",
       "                 Pipeline(steps=[(&#x27;scaler&#x27;, StandardScaler())])),\n",
       "                (&#x27;RM&#x27;, RandomForestClassifier(n_estimators=200))])</pre></div></div></div><div class=\"sk-serial\"><div class=\"sk-item\"><div class=\"sk-label-container\"><div class=\"sk-label sk-toggleable\"><input class=\"sk-toggleable__control sk-hidden--visually\" id=\"c2113938-4cfe-4ec5-9bb2-15b93879a7fe\" type=\"checkbox\" ><label for=\"c2113938-4cfe-4ec5-9bb2-15b93879a7fe\" class=\"sk-toggleable__label sk-toggleable__label-arrow\">preprocessor: Pipeline</label><div class=\"sk-toggleable__content\"><pre>Pipeline(steps=[(&#x27;scaler&#x27;, StandardScaler())])</pre></div></div></div><div class=\"sk-serial\"><div class=\"sk-item\"><div class=\"sk-estimator sk-toggleable\"><input class=\"sk-toggleable__control sk-hidden--visually\" id=\"04a3b4d9-9e1b-4522-b5df-f1a79e91d483\" type=\"checkbox\" ><label for=\"04a3b4d9-9e1b-4522-b5df-f1a79e91d483\" class=\"sk-toggleable__label sk-toggleable__label-arrow\">StandardScaler</label><div class=\"sk-toggleable__content\"><pre>StandardScaler()</pre></div></div></div></div></div><div class=\"sk-item\"><div class=\"sk-estimator sk-toggleable\"><input class=\"sk-toggleable__control sk-hidden--visually\" id=\"e6a67199-aa4d-4eac-8084-386b5334dcf6\" type=\"checkbox\" ><label for=\"e6a67199-aa4d-4eac-8084-386b5334dcf6\" class=\"sk-toggleable__label sk-toggleable__label-arrow\">RandomForestClassifier</label><div class=\"sk-toggleable__content\"><pre>RandomForestClassifier(n_estimators=200)</pre></div></div></div></div></div></div></div>"
      ],
      "text/plain": [
       "Pipeline(steps=[('preprocessor',\n",
       "                 Pipeline(steps=[('scaler', StandardScaler())])),\n",
       "                ('RM', RandomForestClassifier(n_estimators=200))])"
      ]
     },
     "execution_count": 38,
     "metadata": {},
     "output_type": "execute_result"
    }
   ],
   "source": [
    "#fit the training data to updated pipeline\n",
    "pipe.fit(x_train,y_train)"
   ]
  },
  {
   "cell_type": "code",
   "execution_count": 46,
   "id": "4ec48c75",
   "metadata": {},
   "outputs": [],
   "source": [
    "#predict the test data\n",
    "test_prediction=pipe.predict(x_test)"
   ]
  },
  {
   "cell_type": "code",
   "execution_count": 47,
   "id": "18efa7e4",
   "metadata": {},
   "outputs": [],
   "source": [
    "#Create a dataframe of actual labels and model predicted labels\n",
    "final_result=pd.DataFrame({\"Actual\":y_test,\"Prediction\":test_prediction})"
   ]
  },
  {
   "cell_type": "code",
   "execution_count": 48,
   "id": "d709df29",
   "metadata": {},
   "outputs": [
    {
     "data": {
      "text/html": [
       "<div>\n",
       "<style scoped>\n",
       "    .dataframe tbody tr th:only-of-type {\n",
       "        vertical-align: middle;\n",
       "    }\n",
       "\n",
       "    .dataframe tbody tr th {\n",
       "        vertical-align: top;\n",
       "    }\n",
       "\n",
       "    .dataframe thead th {\n",
       "        text-align: right;\n",
       "    }\n",
       "</style>\n",
       "<table border=\"1\" class=\"dataframe\">\n",
       "  <thead>\n",
       "    <tr style=\"text-align: right;\">\n",
       "      <th></th>\n",
       "      <th>Actual</th>\n",
       "      <th>Prediction</th>\n",
       "    </tr>\n",
       "  </thead>\n",
       "  <tbody>\n",
       "    <tr>\n",
       "      <th>19</th>\n",
       "      <td>0</td>\n",
       "      <td>0</td>\n",
       "    </tr>\n",
       "    <tr>\n",
       "      <th>45</th>\n",
       "      <td>0</td>\n",
       "      <td>0</td>\n",
       "    </tr>\n",
       "    <tr>\n",
       "      <th>140</th>\n",
       "      <td>2</td>\n",
       "      <td>2</td>\n",
       "    </tr>\n",
       "    <tr>\n",
       "      <th>30</th>\n",
       "      <td>0</td>\n",
       "      <td>0</td>\n",
       "    </tr>\n",
       "    <tr>\n",
       "      <th>67</th>\n",
       "      <td>1</td>\n",
       "      <td>1</td>\n",
       "    </tr>\n",
       "  </tbody>\n",
       "</table>\n",
       "</div>"
      ],
      "text/plain": [
       "     Actual  Prediction\n",
       "19        0           0\n",
       "45        0           0\n",
       "140       2           2\n",
       "30        0           0\n",
       "67        1           1"
      ]
     },
     "execution_count": 48,
     "metadata": {},
     "output_type": "execute_result"
    }
   ],
   "source": [
    "#display acctual and model predictied o/p\n",
    "final_result.head()"
   ]
  },
  {
   "cell_type": "code",
   "execution_count": 50,
   "id": "574a45e0",
   "metadata": {},
   "outputs": [
    {
     "name": "stdout",
     "output_type": "stream",
     "text": [
      "Accuracy of the model is:  100.0\n"
     ]
    }
   ],
   "source": [
    "#accuracy of the model\n",
    "from sklearn.metrics import accuracy_score                       #import accuracy_score\n",
    "\n",
    "#Accuracy calculation\n",
    "accuracy_test=accuracy_score(y_test,a)*100   \n",
    "print(f\"Accuracy of the model is: \",accuracy_test)"
   ]
  }
 ],
 "metadata": {
  "kernelspec": {
   "display_name": "Python 3 (ipykernel)",
   "language": "python",
   "name": "python3"
  },
  "language_info": {
   "codemirror_mode": {
    "name": "ipython",
    "version": 3
   },
   "file_extension": ".py",
   "mimetype": "text/x-python",
   "name": "python",
   "nbconvert_exporter": "python",
   "pygments_lexer": "ipython3",
   "version": "3.7.13"
  }
 },
 "nbformat": 4,
 "nbformat_minor": 5
}
